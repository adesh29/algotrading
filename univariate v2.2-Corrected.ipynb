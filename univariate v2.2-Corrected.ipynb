{
 "cells": [
  {
   "cell_type": "code",
   "execution_count": 60,
   "id": "a74fb905",
   "metadata": {},
   "outputs": [],
   "source": [
    "import numpy as np\n",
    "import pandas as pd\n",
    "import matplotlib.pyplot as plt\n",
    "import tensorflow as tf\n",
    "from tensorflow import keras\n",
    "from tensorflow.keras import layers\n",
    "from tensorflow.keras import models\n",
    "from time import time\n",
    "import os"
   ]
  },
  {
   "cell_type": "code",
   "execution_count": 61,
   "id": "e9bd263b",
   "metadata": {},
   "outputs": [],
   "source": [
    "def dataset(data, x, lf=7):\n",
    "    #Splits data into train-test format with 90% split\n",
    "    #input is an x-days long sequence and output shall be 10%+ positive/ positive/ negligible(0)/ negative/ 10%+ negative\n",
    "    splitval = int(data.shape[0]*0.9)\n",
    "    data = data.reshape([data.shape[0], 1])\n",
    "    trainx = np.zeros([x, 0])\n",
    "    trainy = np.zeros([3, 0])\n",
    "    testx = np.zeros([x, 0])\n",
    "    testy = np.zeros([3, 0])\n",
    "    print(\"Split value is: \", splitval)\n",
    "    \n",
    "    #making input for network\n",
    "    for k in range(splitval-x-lf):\n",
    "        trainx = np.append(trainx, data[k:k+x], axis=1)\n",
    "    for l in range(splitval-x-lf, data.shape[0]-x-lf):\n",
    "        testx = np.append(testx, data[l:l+x], axis=1)\n",
    "        \n",
    "    #making output for network\n",
    "    for i in range(splitval-x-lf):\n",
    "        if data[i]!=0:\n",
    "            if abs(data[i+lf])<=0.02:\n",
    "                trainy = np.append(trainy, np.reshape(np.array([0,1,0]), [3,1]), axis=1)\n",
    "            #elif 0.1>=(data[i+lf]-data[i])/data[i]>0.02:\n",
    "             #   trainy = np.append(trainy, np.reshape(np.array([0,1,0,0,0]), [5,1]), axis=1)\n",
    "            elif data[i+lf]>0.02:\n",
    "                trainy = np.append(trainy, np.reshape(np.array([1,0,0,]), [3,1]), axis=1)\n",
    "            #elif -0.1<(data[i+lf]-data[i])/data[i]<-0.02:\n",
    "             #   trainy = np.append(trainy, np.reshape(np.array([0,0,0,1,0]), [5,1]), axis=1)\n",
    "            elif data[i+lf]<-0.02:\n",
    "                trainy = np.append(trainy, np.reshape(np.array([0,0,1]), [3,1]), axis=1)\n",
    "            else:\n",
    "                trainy = np.append(trainy, np.reshape(np.array([0,0,0]), [3,1]), axis=1)\n",
    "        else:\n",
    "            trainy = np.append(trainy, np.reshape(np.array([0,0,0]), [3,1]), axis=1)\n",
    "    for j in range(splitval-x-lf, data.shape[0]-x-lf):\n",
    "        if data[j]!=0:\n",
    "            if abs(data[j+lf])<=0.02:\n",
    "                testy = np.append(testy, np.reshape(np.array([0,1,0]), [3,1]), axis=1)\n",
    "            #elif 0.1>=(data[j+lf]-data[j])/data[j]>0.02:\n",
    "             #   testy = np.append(testy, np.reshape(np.array([0,1,0,0,0]), [5,1]), axis=1)\n",
    "            elif data[j+lf]>0.02:\n",
    "                testy = np.append(testy, np.reshape(np.array([1,0,0]), [3,1]), axis=1)\n",
    "            #elif -0.1<(data[j+lf]-data[j])/data[j]<-0.02:\n",
    "             #   testy = np.append(testy, np.reshape(np.array([0,0,0,1,0]), [5,1]), axis=1)\n",
    "            elif data[j+lf]<-0.02:\n",
    "                testy = np.append(testy, np.reshape(np.array([0,0,1]), [3,1]), axis=1)\n",
    "            else:\n",
    "                testy = np.append(testy, np.reshape(np.array([0,0,0]), [3,1]), axis=1)\n",
    "        else:\n",
    "            testy = np.append(testy, np.reshape(np.array([0,0,0]), [3,1]), axis=1)\n",
    "    #trainy = np.append(trainy, (data[lf:splitval-x]-data[:splitval-x-lf]))\n",
    "    #testy = np.append(testy, (data[splitval-x:]-data[splitval-x-lf:-lf]))\n",
    "    #trainx = np.delete(trainx, np.arange(splitval-x))\n",
    "    #testx = np.delete(testx, np.arange(data.shape[0]-splitval))\n",
    "    print(\"Current shape of trainy \", trainy.shape)\n",
    "    \n",
    "    return [trainx, trainy], [testx, testy]"
   ]
  },
  {
   "cell_type": "code",
   "execution_count": 62,
   "id": "b80db8fb",
   "metadata": {},
   "outputs": [],
   "source": [
    "from sklearn.preprocessing import MinMaxScaler\n",
    "def normalizer(arr):\n",
    "    data = np.array([])\n",
    "    #print(len(arr))\n",
    "    for i in range(len(arr)): \n",
    "        #data = np.append(data, arr[i]/max(maxval, -minval))\n",
    "        data = np.append(data, MinMaxScaler().fit_transform(arr[i]))        \n",
    "        #data = np.append(data, ((arr[i]-np.mean(arr[i]))/np.std(arr[i])))\n",
    "        #/max(maxval, -minval)\n",
    "    return data"
   ]
  },
  {
   "cell_type": "code",
   "execution_count": 113,
   "id": "a8f04a11",
   "metadata": {},
   "outputs": [],
   "source": [
    "def predictor(model, testx, testy, lookback):\n",
    "    pred = model.predict(testx)\n",
    "    vals = np.zeros(prediction.shape[0])\n",
    "\n",
    "    for k in range(prediction.shape[0]):\n",
    "        if (np.where(pred[k]==max(pred[k]))[0][0]==np.where(testy[k]==max(testy[k]))[0][0]):\n",
    "            vals[k] = 1\n",
    "        else:\n",
    "            vals[k] = 0\n",
    "    acc = 0\n",
    "    for i in vals:\n",
    "        acc+=i\n",
    "    print(\"Accuracy: \", acc/vals.shape[0])\n",
    "    plt.bar(np.arange(prediction.shape[0]), vals, width=0.5)\n",
    "    return pred"
   ]
  },
  {
   "cell_type": "code",
   "execution_count": 64,
   "id": "7e8c443c",
   "metadata": {},
   "outputs": [],
   "source": [
    "#broken function, do not use\n",
    "def extract_deploy(arr, options, lookback, lookforward):\n",
    "    #Input is an array of companies and output is final data\n",
    "    output = list(range(len(arr)))\n",
    "    data_final = np.zeros([lookback, 0])\n",
    "    for company in range(len(arr)):\n",
    "        data = pd.read_csv(arr[company]).filter(options).values\n",
    "        output[company] = data.reshape([data.shape[0], 1])\n",
    "    output = np.array(output, dtype=object)\n",
    "    data_final = normalizer(output)\n",
    "    \n",
    "    [tx, ty] , [testx, testy] = dataset(data_final, lookback, lookforward) \n",
    "    tx = np.transpose(tx)\n",
    "    testx = np.transpose(testx)\n",
    "    ty = np.transpose(ty)\n",
    "    testy = np.transpose(testy)\n",
    "    return [tx, ty], [testx, testy]"
   ]
  },
  {
   "cell_type": "code",
   "execution_count": 96,
   "id": "666cdbcd",
   "metadata": {},
   "outputs": [],
   "source": [
    "def modeller(back):\n",
    "    model = models.Sequential()\n",
    "    model.add(keras.Input(shape=(back, 1)))\n",
    "    model.add(layers.GRU(28, return_sequences=True))\n",
    "    model.add(layers.GRU(28, return_sequences=True))\n",
    "    model.add(layers.GRU(28, return_sequences=True))\n",
    "    model.add(layers.GRU(28, return_sequences=True))\n",
    "    model.add(layers.GRU(24, return_sequences=False))\n",
    "    model.add(layers.Dense(16, activation=\"tanh\"))\n",
    "    model.add(layers.Dense(16, activation=\"tanh\"))\n",
    "    model.add(layers.Dense(3, activation=\"softmax\"))\n",
    "    print(model.summary())\n",
    "\n",
    "    #loss = keras.losses.MeanSquaredError(reduction=tf.keras.losses.Reduction.SUM)\n",
    "    loss = keras.losses.CategoricalCrossentropy()\n",
    "    optim = keras.optimizers.Nadam(learning_rate=0.005)\n",
    "    metrics = [\"accuracy\"]\n",
    "\n",
    "    model.compile(loss=loss, optimizer=optim, metrics=metrics)\n",
    "    return model"
   ]
  },
  {
   "cell_type": "code",
   "execution_count": 66,
   "id": "35395b28",
   "metadata": {},
   "outputs": [],
   "source": [
    "def automaticator(stocks, options, lookback, lookforward, epochs=10, batch_size=256):\n",
    "    start = time()\n",
    "    print(\"Data preprocessing...\")\n",
    "    [tx, ty], [testx, testy] = extract_deploy(list_of_stocks, list_of_options, lookback, lookforward)\n",
    "    model1 = modeller(lookback)\n",
    "    print(\"model training...\")\n",
    "    model1.fit(tx, ty, epochs=epochs, batch_size=batch_size, callbacks=keras.callbacks.ReduceLROnPlateau(\n",
    "            monitor=\"accuracy\", factor=0.5, patience=5, min_lr=0.0001))\n",
    "    print(\"model testing...\")\n",
    "    prediction = predictor(model1, testx, testy, lookback)\n",
    "    end = time()\n",
    "    print(\"Time taken for above set: \", end-start)\n",
    "    return prediction"
   ]
  },
  {
   "cell_type": "code",
   "execution_count": 67,
   "id": "6edd757e",
   "metadata": {},
   "outputs": [],
   "source": [
    "def data_prep(arr, options, lb, lf):\n",
    "    #Input is an array of companies and output is final data\n",
    "    #output = list(range(len(arr)))\n",
    "    output = np.array([])\n",
    "    data = np.zeros([lb, 0])\n",
    "    for company in range(len(arr)):\n",
    "        data = pd.read_csv(arr[company]).filter(options).values\n",
    "        output = np.append(output, np.array(data.reshape([data.shape[0], 1])))\n",
    "    output = output.reshape((-1,1))\n",
    "    #data = MinMaxScaler((-1,1)).fit_transform(output)\n",
    "    data = (output - np.mean(output))/max(abs(output))\n",
    "    print(\"preparing x and y...\")\n",
    "    trainx = np.zeros([lb, 0])\n",
    "    trainy = np.zeros([3, 0])\n",
    "    \n",
    "    for i in range(data.shape[0]-lb-lf):\n",
    "        #making input for network\n",
    "        trainx = np.append(trainx, data[i:i+lb].reshape(-1,1), axis=1)\n",
    "        #making output for network\n",
    "       \n",
    "        if data[i]!=0:\n",
    "            if abs(data[i+lf])<=0.01:\n",
    "                trainy = np.append(trainy, np.reshape(np.array([0,1,0]), [3,1]), axis=1)\n",
    "        #elif 0.1>=(data[i+lf]-data[i])/data[i]>0.02:\n",
    "            #   trainy = np.append(trainy, np.reshape(np.array([0,1,0,0,0]), [5,1]), axis=1)\n",
    "            elif data[i+lf]>0.01:\n",
    "                trainy = np.append(trainy, np.reshape(np.array([1,0,0,]), [3,1]), axis=1)\n",
    "        #elif -0.1<(data[i+lf]-data[i])/data[i]<-0.02:\n",
    "            #   trainy = np.append(trainy, np.reshape(np.array([0,0,0,1,0]), [5,1]), axis=1)\n",
    "            elif data[i+lf]<-0.01:\n",
    "                trainy = np.append(trainy, np.reshape(np.array([0,0,1]), [3,1]), axis=1)\n",
    "            else:\n",
    "                trainy = np.append(trainy, np.reshape(np.array([0,0,0]), [3,1]), axis=1)\n",
    "        else:\n",
    "            trainy = np.append(trainy, np.reshape(np.array([0,0,0]), [3,1]), axis=1)\n",
    "     \n",
    "    trainx = np.transpose(trainx)\n",
    "    trainy = np.transpose(trainy)\n",
    "    return trainx, trainy"
   ]
  },
  {
   "cell_type": "code",
   "execution_count": 99,
   "id": "8c3a37b6",
   "metadata": {
    "scrolled": false
   },
   "outputs": [],
   "source": [
    "list_of_stocks = [\"asian paints.csv\", \"532939.csv\", \"reliance industries.csv\", \"tata steel.csv\", \"jsw steel.csv\", \"hpl electric.csv\", \"rinfra.csv\"]\n",
    "list_of_options = [\"Spread Close-Open\"]\n",
    "\n",
    "start = time()"
   ]
  },
  {
   "cell_type": "code",
   "execution_count": 100,
   "id": "99968628",
   "metadata": {},
   "outputs": [
    {
     "name": "stdout",
     "output_type": "stream",
     "text": [
      "preparing x and y...\n"
     ]
    }
   ],
   "source": [
    "lookback = 200\n",
    "lookforward = 3\n",
    "[tx, ty] = data_prep(list_of_stocks, list_of_options, lookback, lookforward)"
   ]
  },
  {
   "cell_type": "code",
   "execution_count": 101,
   "id": "41528a9c",
   "metadata": {},
   "outputs": [
    {
     "data": {
      "text/plain": [
       "<BarContainer object of 29984 artists>"
      ]
     },
     "execution_count": 101,
     "metadata": {},
     "output_type": "execute_result"
    },
    {
     "data": {
      "image/png": "[encoded data removed]",
      "text/plain": [
       "<Figure size 432x288 with 3 Axes>"
      ]
     },
     "metadata": {
      "needs_background": "light"
     },
     "output_type": "display_data"
    }
   ],
   "source": [
    "fig, ax = plt.subplots(3)\n",
    "ax[0].bar(np.arange(ty.shape[0]), ty[:, 0])\n",
    "ax[1].bar(np.arange(ty.shape[0]), ty[:, 1])\n",
    "ax[2].bar(np.arange(ty.shape[0]), ty[:, 2])"
   ]
  },
  {
   "cell_type": "code",
   "execution_count": 102,
   "id": "f0c78ff9",
   "metadata": {},
   "outputs": [
    {
     "data": {
      "text/plain": [
       "(0.2558364461045891, 0.48249066168623267, 0.2616728922091782, 0.0)"
      ]
     },
     "execution_count": 102,
     "metadata": {},
     "output_type": "execute_result"
    }
   ],
   "source": [
    "check = [0, 0, 0, 0]\n",
    "for i in range(len(ty)):\n",
    "    if ty[i, 1]==1:\n",
    "        check[1]+=1\n",
    "    elif ty[i, 0]==1:\n",
    "        check[0]+=1\n",
    "    elif ty[i, 2]==1:\n",
    "        check[2]+=1\n",
    "    else:\n",
    "        check[3]+=1\n",
    "check[0]/len(ty), check[1]/len(ty), check[2]/len(ty), check[3]/len(ty)"
   ]
  },
  {
   "cell_type": "code",
   "execution_count": 109,
   "id": "51ea34fb",
   "metadata": {},
   "outputs": [
    {
     "data": {
      "text/plain": [
       "200"
      ]
     },
     "execution_count": 109,
     "metadata": {},
     "output_type": "execute_result"
    }
   ],
   "source": [
    "lookback"
   ]
  },
  {
   "cell_type": "code",
   "execution_count": 110,
   "id": "507a6ded",
   "metadata": {
    "scrolled": true
   },
   "outputs": [
    {
     "name": "stdout",
     "output_type": "stream",
     "text": [
      "Model: \"sequential_10\"\n",
      "_________________________________________________________________\n",
      " Layer (type)                Output Shape              Param #   \n",
      "=================================================================\n",
      " gru_50 (GRU)                (None, 200, 28)           2604      \n",
      "                                                                 \n",
      " gru_51 (GRU)                (None, 200, 28)           4872      \n",
      "                                                                 \n",
      " gru_52 (GRU)                (None, 200, 28)           4872      \n",
      "                                                                 \n",
      " gru_53 (GRU)                (None, 200, 28)           4872      \n",
      "                                                                 \n",
      " gru_54 (GRU)                (None, 24)                3888      \n",
      "                                                                 \n",
      " dense_30 (Dense)            (None, 16)                400       \n",
      "                                                                 \n",
      " dense_31 (Dense)            (None, 16)                272       \n",
      "                                                                 \n",
      " dense_32 (Dense)            (None, 3)                 51        \n",
      "                                                                 \n",
      "=================================================================\n",
      "Total params: 21,831\n",
      "Trainable params: 21,831\n",
      "Non-trainable params: 0\n",
      "_________________________________________________________________\n",
      "None\n",
      "Epoch 1/50\n",
      "100/100 [==============================] - ETA: 0s - loss: 1.0572 - accuracy: 0.4791"
     ]
    },
    {
     "name": "stderr",
     "output_type": "stream",
     "text": [
      "WARNING:absl:Found untraced functions such as gru_cell_50_layer_call_fn, gru_cell_50_layer_call_and_return_conditional_losses, gru_cell_51_layer_call_fn, gru_cell_51_layer_call_and_return_conditional_losses, gru_cell_52_layer_call_fn while saving (showing 5 of 10). These functions will not be directly callable after loading.\n"
     ]
    },
    {
     "name": "stdout",
     "output_type": "stream",
     "text": [
      "INFO:tensorflow:Assets written to: check\\leviathan.ckpt\\assets\n"
     ]
    },
    {
     "name": "stderr",
     "output_type": "stream",
     "text": [
      "INFO:tensorflow:Assets written to: check\\leviathan.ckpt\\assets\n"
     ]
    },
    {
     "name": "stdout",
     "output_type": "stream",
     "text": [
      "100/100 [==============================] - 483s 5s/step - loss: 1.0572 - accuracy: 0.4791 - lr: 0.0050\n",
      "Epoch 2/50\n",
      "100/100 [==============================] - ETA: 0s - loss: 1.0430 - accuracy: 0.4883"
     ]
    },
    {
     "name": "stderr",
     "output_type": "stream",
     "text": [
      "WARNING:absl:Found untraced functions such as gru_cell_50_layer_call_fn, gru_cell_50_layer_call_and_return_conditional_losses, gru_cell_51_layer_call_fn, gru_cell_51_layer_call_and_return_conditional_losses, gru_cell_52_layer_call_fn while saving (showing 5 of 10). These functions will not be directly callable after loading.\n"
     ]
    },
    {
     "name": "stdout",
     "output_type": "stream",
     "text": [
      "INFO:tensorflow:Assets written to: check\\leviathan.ckpt\\assets\n"
     ]
    },
    {
     "name": "stderr",
     "output_type": "stream",
     "text": [
      "INFO:tensorflow:Assets written to: check\\leviathan.ckpt\\assets\n"
     ]
    },
    {
     "name": "stdout",
     "output_type": "stream",
     "text": [
      "100/100 [==============================] - 465s 5s/step - loss: 1.0430 - accuracy: 0.4883 - lr: 0.0050\n",
      "Epoch 3/50\n",
      "100/100 [==============================] - ETA: 0s - loss: 1.0525 - accuracy: 0.4825"
     ]
    },
    {
     "name": "stderr",
     "output_type": "stream",
     "text": [
      "WARNING:absl:Found untraced functions such as gru_cell_50_layer_call_fn, gru_cell_50_layer_call_and_return_conditional_losses, gru_cell_51_layer_call_fn, gru_cell_51_layer_call_and_return_conditional_losses, gru_cell_52_layer_call_fn while saving (showing 5 of 10). These functions will not be directly callable after loading.\n"
     ]
    },
    {
     "name": "stdout",
     "output_type": "stream",
     "text": [
      "INFO:tensorflow:Assets written to: check\\leviathan.ckpt\\assets\n"
     ]
    },
    {
     "name": "stderr",
     "output_type": "stream",
     "text": [
      "INFO:tensorflow:Assets written to: check\\leviathan.ckpt\\assets\n"
     ]
    },
    {
     "name": "stdout",
     "output_type": "stream",
     "text": [
      "100/100 [==============================] - 447s 4s/step - loss: 1.0525 - accuracy: 0.4825 - lr: 0.0050\n",
      "Epoch 4/50\n",
      "100/100 [==============================] - ETA: 0s - loss: 1.0278 - accuracy: 0.4995"
     ]
    },
    {
     "name": "stderr",
     "output_type": "stream",
     "text": [
      "WARNING:absl:Found untraced functions such as gru_cell_50_layer_call_fn, gru_cell_50_layer_call_and_return_conditional_losses, gru_cell_51_layer_call_fn, gru_cell_51_layer_call_and_return_conditional_losses, gru_cell_52_layer_call_fn while saving (showing 5 of 10). These functions will not be directly callable after loading.\n"
     ]
    },
    {
     "name": "stdout",
     "output_type": "stream",
     "text": [
      "INFO:tensorflow:Assets written to: check\\leviathan.ckpt\\assets\n"
     ]
    },
    {
     "name": "stderr",
     "output_type": "stream",
     "text": [
      "INFO:tensorflow:Assets written to: check\\leviathan.ckpt\\assets\n"
     ]
    },
    {
     "name": "stdout",
     "output_type": "stream",
     "text": [
      "100/100 [==============================] - 599s 6s/step - loss: 1.0278 - accuracy: 0.4995 - lr: 0.0050\n",
      "Epoch 5/50\n",
      "100/100 [==============================] - ETA: 0s - loss: 0.9610 - accuracy: 0.5340"
     ]
    },
    {
     "name": "stderr",
     "output_type": "stream",
     "text": [
      "WARNING:absl:Found untraced functions such as gru_cell_50_layer_call_fn, gru_cell_50_layer_call_and_return_conditional_losses, gru_cell_51_layer_call_fn, gru_cell_51_layer_call_and_return_conditional_losses, gru_cell_52_layer_call_fn while saving (showing 5 of 10). These functions will not be directly callable after loading.\n"
     ]
    },
    {
     "name": "stdout",
     "output_type": "stream",
     "text": [
      "INFO:tensorflow:Assets written to: check\\leviathan.ckpt\\assets\n"
     ]
    },
    {
     "name": "stderr",
     "output_type": "stream",
     "text": [
      "INFO:tensorflow:Assets written to: check\\leviathan.ckpt\\assets\n"
     ]
    },
    {
     "name": "stdout",
     "output_type": "stream",
     "text": [
      "100/100 [==============================] - 581s 6s/step - loss: 0.9610 - accuracy: 0.5340 - lr: 0.0050\n",
      "Epoch 6/50\n",
      "100/100 [==============================] - ETA: 0s - loss: 0.9279 - accuracy: 0.5484"
     ]
    },
    {
     "name": "stderr",
     "output_type": "stream",
     "text": [
      "WARNING:absl:Found untraced functions such as gru_cell_50_layer_call_fn, gru_cell_50_layer_call_and_return_conditional_losses, gru_cell_51_layer_call_fn, gru_cell_51_layer_call_and_return_conditional_losses, gru_cell_52_layer_call_fn while saving (showing 5 of 10). These functions will not be directly callable after loading.\n"
     ]
    },
    {
     "name": "stdout",
     "output_type": "stream",
     "text": [
      "INFO:tensorflow:Assets written to: check\\leviathan.ckpt\\assets\n"
     ]
    },
    {
     "name": "stderr",
     "output_type": "stream",
     "text": [
      "INFO:tensorflow:Assets written to: check\\leviathan.ckpt\\assets\n"
     ]
    },
    {
     "name": "stdout",
     "output_type": "stream",
     "text": [
      "100/100 [==============================] - 580s 6s/step - loss: 0.9279 - accuracy: 0.5484 - lr: 0.0050\n",
      "Epoch 7/50\n",
      "100/100 [==============================] - ETA: 0s - loss: 0.9069 - accuracy: 0.5654"
     ]
    },
    {
     "name": "stderr",
     "output_type": "stream",
     "text": [
      "WARNING:absl:Found untraced functions such as gru_cell_50_layer_call_fn, gru_cell_50_layer_call_and_return_conditional_losses, gru_cell_51_layer_call_fn, gru_cell_51_layer_call_and_return_conditional_losses, gru_cell_52_layer_call_fn while saving (showing 5 of 10). These functions will not be directly callable after loading.\n"
     ]
    },
    {
     "name": "stdout",
     "output_type": "stream",
     "text": [
      "INFO:tensorflow:Assets written to: check\\leviathan.ckpt\\assets\n"
     ]
    },
    {
     "name": "stderr",
     "output_type": "stream",
     "text": [
      "INFO:tensorflow:Assets written to: check\\leviathan.ckpt\\assets\n"
     ]
    },
    {
     "name": "stdout",
     "output_type": "stream",
     "text": [
      "100/100 [==============================] - 679s 7s/step - loss: 0.9069 - accuracy: 0.5654 - lr: 0.0050\n",
      "Epoch 8/50\n",
      "100/100 [==============================] - ETA: 0s - loss: 0.8814 - accuracy: 0.5768"
     ]
    },
    {
     "name": "stderr",
     "output_type": "stream",
     "text": [
      "WARNING:absl:Found untraced functions such as gru_cell_50_layer_call_fn, gru_cell_50_layer_call_and_return_conditional_losses, gru_cell_51_layer_call_fn, gru_cell_51_layer_call_and_return_conditional_losses, gru_cell_52_layer_call_fn while saving (showing 5 of 10). These functions will not be directly callable after loading.\n"
     ]
    },
    {
     "name": "stdout",
     "output_type": "stream",
     "text": [
      "INFO:tensorflow:Assets written to: check\\leviathan.ckpt\\assets\n"
     ]
    },
    {
     "name": "stderr",
     "output_type": "stream",
     "text": [
      "INFO:tensorflow:Assets written to: check\\leviathan.ckpt\\assets\n"
     ]
    },
    {
     "name": "stdout",
     "output_type": "stream",
     "text": [
      "100/100 [==============================] - 649s 6s/step - loss: 0.8814 - accuracy: 0.5768 - lr: 0.0050\n",
      "Epoch 9/50\n",
      "100/100 [==============================] - ETA: 0s - loss: 0.8410 - accuracy: 0.6131"
     ]
    },
    {
     "name": "stderr",
     "output_type": "stream",
     "text": [
      "WARNING:absl:Found untraced functions such as gru_cell_50_layer_call_fn, gru_cell_50_layer_call_and_return_conditional_losses, gru_cell_51_layer_call_fn, gru_cell_51_layer_call_and_return_conditional_losses, gru_cell_52_layer_call_fn while saving (showing 5 of 10). These functions will not be directly callable after loading.\n"
     ]
    },
    {
     "name": "stdout",
     "output_type": "stream",
     "text": [
      "INFO:tensorflow:Assets written to: check\\leviathan.ckpt\\assets\n"
     ]
    },
    {
     "name": "stderr",
     "output_type": "stream",
     "text": [
      "INFO:tensorflow:Assets written to: check\\leviathan.ckpt\\assets\n"
     ]
    },
    {
     "name": "stdout",
     "output_type": "stream",
     "text": [
      "100/100 [==============================] - 614s 6s/step - loss: 0.8410 - accuracy: 0.6131 - lr: 0.0050\n",
      "Epoch 10/50\n",
      "100/100 [==============================] - ETA: 0s - loss: 0.7987 - accuracy: 0.6409"
     ]
    },
    {
     "name": "stderr",
     "output_type": "stream",
     "text": [
      "WARNING:absl:Found untraced functions such as gru_cell_50_layer_call_fn, gru_cell_50_layer_call_and_return_conditional_losses, gru_cell_51_layer_call_fn, gru_cell_51_layer_call_and_return_conditional_losses, gru_cell_52_layer_call_fn while saving (showing 5 of 10). These functions will not be directly callable after loading.\n"
     ]
    },
    {
     "name": "stdout",
     "output_type": "stream",
     "text": [
      "INFO:tensorflow:Assets written to: check\\leviathan.ckpt\\assets\n"
     ]
    },
    {
     "name": "stderr",
     "output_type": "stream",
     "text": [
      "INFO:tensorflow:Assets written to: check\\leviathan.ckpt\\assets\n"
     ]
    },
    {
     "name": "stdout",
     "output_type": "stream",
     "text": [
      "100/100 [==============================] - 632s 6s/step - loss: 0.7987 - accuracy: 0.6409 - lr: 0.0050\n",
      "Epoch 11/50\n",
      "100/100 [==============================] - ETA: 0s - loss: 0.7473 - accuracy: 0.6710"
     ]
    },
    {
     "name": "stderr",
     "output_type": "stream",
     "text": [
      "WARNING:absl:Found untraced functions such as gru_cell_50_layer_call_fn, gru_cell_50_layer_call_and_return_conditional_losses, gru_cell_51_layer_call_fn, gru_cell_51_layer_call_and_return_conditional_losses, gru_cell_52_layer_call_fn while saving (showing 5 of 10). These functions will not be directly callable after loading.\n"
     ]
    },
    {
     "name": "stdout",
     "output_type": "stream",
     "text": [
      "INFO:tensorflow:Assets written to: check\\leviathan.ckpt\\assets\n"
     ]
    },
    {
     "name": "stderr",
     "output_type": "stream",
     "text": [
      "INFO:tensorflow:Assets written to: check\\leviathan.ckpt\\assets\n"
     ]
    },
    {
     "name": "stdout",
     "output_type": "stream",
     "text": [
      "100/100 [==============================] - 756s 8s/step - loss: 0.7473 - accuracy: 0.6710 - lr: 0.0050\n",
      "Epoch 12/50\n",
      "100/100 [==============================] - ETA: 0s - loss: 0.7348 - accuracy: 0.6893"
     ]
    },
    {
     "name": "stderr",
     "output_type": "stream",
     "text": [
      "WARNING:absl:Found untraced functions such as gru_cell_50_layer_call_fn, gru_cell_50_layer_call_and_return_conditional_losses, gru_cell_51_layer_call_fn, gru_cell_51_layer_call_and_return_conditional_losses, gru_cell_52_layer_call_fn while saving (showing 5 of 10). These functions will not be directly callable after loading.\n"
     ]
    },
    {
     "name": "stdout",
     "output_type": "stream",
     "text": [
      "INFO:tensorflow:Assets written to: check\\leviathan.ckpt\\assets\n"
     ]
    },
    {
     "name": "stderr",
     "output_type": "stream",
     "text": [
      "INFO:tensorflow:Assets written to: check\\leviathan.ckpt\\assets\n"
     ]
    },
    {
     "name": "stdout",
     "output_type": "stream",
     "text": [
      "100/100 [==============================] - 754s 8s/step - loss: 0.7348 - accuracy: 0.6893 - lr: 0.0050\n",
      "Epoch 13/50\n",
      "100/100 [==============================] - ETA: 0s - loss: 0.6476 - accuracy: 0.7223"
     ]
    },
    {
     "name": "stderr",
     "output_type": "stream",
     "text": [
      "WARNING:absl:Found untraced functions such as gru_cell_50_layer_call_fn, gru_cell_50_layer_call_and_return_conditional_losses, gru_cell_51_layer_call_fn, gru_cell_51_layer_call_and_return_conditional_losses, gru_cell_52_layer_call_fn while saving (showing 5 of 10). These functions will not be directly callable after loading.\n"
     ]
    },
    {
     "name": "stdout",
     "output_type": "stream",
     "text": [
      "INFO:tensorflow:Assets written to: check\\leviathan.ckpt\\assets\n"
     ]
    },
    {
     "name": "stderr",
     "output_type": "stream",
     "text": [
      "INFO:tensorflow:Assets written to: check\\leviathan.ckpt\\assets\n"
     ]
    },
    {
     "name": "stdout",
     "output_type": "stream",
     "text": [
      "100/100 [==============================] - 756s 8s/step - loss: 0.6476 - accuracy: 0.7223 - lr: 0.0050\n",
      "Epoch 14/50\n",
      "100/100 [==============================] - ETA: 0s - loss: 0.5868 - accuracy: 0.7581"
     ]
    },
    {
     "name": "stderr",
     "output_type": "stream",
     "text": [
      "WARNING:absl:Found untraced functions such as gru_cell_50_layer_call_fn, gru_cell_50_layer_call_and_return_conditional_losses, gru_cell_51_layer_call_fn, gru_cell_51_layer_call_and_return_conditional_losses, gru_cell_52_layer_call_fn while saving (showing 5 of 10). These functions will not be directly callable after loading.\n"
     ]
    },
    {
     "name": "stdout",
     "output_type": "stream",
     "text": [
      "INFO:tensorflow:Assets written to: check\\leviathan.ckpt\\assets\n"
     ]
    },
    {
     "name": "stderr",
     "output_type": "stream",
     "text": [
      "INFO:tensorflow:Assets written to: check\\leviathan.ckpt\\assets\n"
     ]
    },
    {
     "name": "stdout",
     "output_type": "stream",
     "text": [
      "100/100 [==============================] - 923s 9s/step - loss: 0.5868 - accuracy: 0.7581 - lr: 0.0050\n",
      "Epoch 15/50\n",
      "100/100 [==============================] - ETA: 0s - loss: 0.5134 - accuracy: 0.7868"
     ]
    },
    {
     "name": "stderr",
     "output_type": "stream",
     "text": [
      "WARNING:absl:Found untraced functions such as gru_cell_50_layer_call_fn, gru_cell_50_layer_call_and_return_conditional_losses, gru_cell_51_layer_call_fn, gru_cell_51_layer_call_and_return_conditional_losses, gru_cell_52_layer_call_fn while saving (showing 5 of 10). These functions will not be directly callable after loading.\n"
     ]
    },
    {
     "name": "stdout",
     "output_type": "stream",
     "text": [
      "INFO:tensorflow:Assets written to: check\\leviathan.ckpt\\assets\n"
     ]
    },
    {
     "name": "stderr",
     "output_type": "stream",
     "text": [
      "INFO:tensorflow:Assets written to: check\\leviathan.ckpt\\assets\n"
     ]
    },
    {
     "name": "stdout",
     "output_type": "stream",
     "text": [
      "100/100 [==============================] - 702s 7s/step - loss: 0.5134 - accuracy: 0.7868 - lr: 0.0050\n",
      "Epoch 16/50\n",
      "100/100 [==============================] - ETA: 0s - loss: 0.4844 - accuracy: 0.8004"
     ]
    },
    {
     "name": "stderr",
     "output_type": "stream",
     "text": [
      "WARNING:absl:Found untraced functions such as gru_cell_50_layer_call_fn, gru_cell_50_layer_call_and_return_conditional_losses, gru_cell_51_layer_call_fn, gru_cell_51_layer_call_and_return_conditional_losses, gru_cell_52_layer_call_fn while saving (showing 5 of 10). These functions will not be directly callable after loading.\n"
     ]
    },
    {
     "name": "stdout",
     "output_type": "stream",
     "text": [
      "INFO:tensorflow:Assets written to: check\\leviathan.ckpt\\assets\n"
     ]
    },
    {
     "name": "stderr",
     "output_type": "stream",
     "text": [
      "INFO:tensorflow:Assets written to: check\\leviathan.ckpt\\assets\n"
     ]
    },
    {
     "name": "stdout",
     "output_type": "stream",
     "text": [
      "100/100 [==============================] - 717s 7s/step - loss: 0.4844 - accuracy: 0.8004 - lr: 0.0050\n",
      "Epoch 17/50\n",
      "100/100 [==============================] - ETA: 0s - loss: 0.4389 - accuracy: 0.8209"
     ]
    },
    {
     "name": "stderr",
     "output_type": "stream",
     "text": [
      "WARNING:absl:Found untraced functions such as gru_cell_50_layer_call_fn, gru_cell_50_layer_call_and_return_conditional_losses, gru_cell_51_layer_call_fn, gru_cell_51_layer_call_and_return_conditional_losses, gru_cell_52_layer_call_fn while saving (showing 5 of 10). These functions will not be directly callable after loading.\n"
     ]
    },
    {
     "name": "stdout",
     "output_type": "stream",
     "text": [
      "INFO:tensorflow:Assets written to: check\\leviathan.ckpt\\assets\n"
     ]
    },
    {
     "name": "stderr",
     "output_type": "stream",
     "text": [
      "INFO:tensorflow:Assets written to: check\\leviathan.ckpt\\assets\n"
     ]
    },
    {
     "name": "stdout",
     "output_type": "stream",
     "text": [
      "100/100 [==============================] - 762s 8s/step - loss: 0.4389 - accuracy: 0.8209 - lr: 0.0050\n",
      "Epoch 18/50\n",
      "100/100 [==============================] - ETA: 0s - loss: 0.4028 - accuracy: 0.8372"
     ]
    },
    {
     "name": "stderr",
     "output_type": "stream",
     "text": [
      "WARNING:absl:Found untraced functions such as gru_cell_50_layer_call_fn, gru_cell_50_layer_call_and_return_conditional_losses, gru_cell_51_layer_call_fn, gru_cell_51_layer_call_and_return_conditional_losses, gru_cell_52_layer_call_fn while saving (showing 5 of 10). These functions will not be directly callable after loading.\n"
     ]
    },
    {
     "name": "stdout",
     "output_type": "stream",
     "text": [
      "INFO:tensorflow:Assets written to: check\\leviathan.ckpt\\assets\n"
     ]
    },
    {
     "name": "stderr",
     "output_type": "stream",
     "text": [
      "INFO:tensorflow:Assets written to: check\\leviathan.ckpt\\assets\n"
     ]
    },
    {
     "name": "stdout",
     "output_type": "stream",
     "text": [
      "100/100 [==============================] - 763s 8s/step - loss: 0.4028 - accuracy: 0.8372 - lr: 0.0050\n",
      "Epoch 19/50\n",
      "100/100 [==============================] - ETA: 0s - loss: 0.3921 - accuracy: 0.8388"
     ]
    },
    {
     "name": "stderr",
     "output_type": "stream",
     "text": [
      "WARNING:absl:Found untraced functions such as gru_cell_50_layer_call_fn, gru_cell_50_layer_call_and_return_conditional_losses, gru_cell_51_layer_call_fn, gru_cell_51_layer_call_and_return_conditional_losses, gru_cell_52_layer_call_fn while saving (showing 5 of 10). These functions will not be directly callable after loading.\n"
     ]
    },
    {
     "name": "stdout",
     "output_type": "stream",
     "text": [
      "INFO:tensorflow:Assets written to: check\\leviathan.ckpt\\assets\n"
     ]
    },
    {
     "name": "stderr",
     "output_type": "stream",
     "text": [
      "INFO:tensorflow:Assets written to: check\\leviathan.ckpt\\assets\n"
     ]
    },
    {
     "name": "stdout",
     "output_type": "stream",
     "text": [
      "100/100 [==============================] - 797s 8s/step - loss: 0.3921 - accuracy: 0.8388 - lr: 0.0050\n",
      "Epoch 20/50\n",
      "100/100 [==============================] - ETA: 0s - loss: 0.3545 - accuracy: 0.8526"
     ]
    },
    {
     "name": "stderr",
     "output_type": "stream",
     "text": [
      "WARNING:absl:Found untraced functions such as gru_cell_50_layer_call_fn, gru_cell_50_layer_call_and_return_conditional_losses, gru_cell_51_layer_call_fn, gru_cell_51_layer_call_and_return_conditional_losses, gru_cell_52_layer_call_fn while saving (showing 5 of 10). These functions will not be directly callable after loading.\n"
     ]
    },
    {
     "name": "stdout",
     "output_type": "stream",
     "text": [
      "INFO:tensorflow:Assets written to: check\\leviathan.ckpt\\assets\n"
     ]
    },
    {
     "name": "stderr",
     "output_type": "stream",
     "text": [
      "INFO:tensorflow:Assets written to: check\\leviathan.ckpt\\assets\n"
     ]
    },
    {
     "name": "stdout",
     "output_type": "stream",
     "text": [
      "100/100 [==============================] - 906s 9s/step - loss: 0.3545 - accuracy: 0.8526 - lr: 0.0050\n",
      "Epoch 21/50\n",
      "100/100 [==============================] - ETA: 0s - loss: 0.3222 - accuracy: 0.8710"
     ]
    },
    {
     "name": "stderr",
     "output_type": "stream",
     "text": [
      "WARNING:absl:Found untraced functions such as gru_cell_50_layer_call_fn, gru_cell_50_layer_call_and_return_conditional_losses, gru_cell_51_layer_call_fn, gru_cell_51_layer_call_and_return_conditional_losses, gru_cell_52_layer_call_fn while saving (showing 5 of 10). These functions will not be directly callable after loading.\n"
     ]
    },
    {
     "name": "stdout",
     "output_type": "stream",
     "text": [
      "INFO:tensorflow:Assets written to: check\\leviathan.ckpt\\assets\n"
     ]
    },
    {
     "name": "stderr",
     "output_type": "stream",
     "text": [
      "INFO:tensorflow:Assets written to: check\\leviathan.ckpt\\assets\n"
     ]
    },
    {
     "name": "stdout",
     "output_type": "stream",
     "text": [
      "100/100 [==============================] - 807s 8s/step - loss: 0.3222 - accuracy: 0.8710 - lr: 0.0050\n",
      "Epoch 22/50\n",
      "100/100 [==============================] - ETA: 0s - loss: 0.3267 - accuracy: 0.8654"
     ]
    },
    {
     "name": "stderr",
     "output_type": "stream",
     "text": [
      "WARNING:absl:Found untraced functions such as gru_cell_50_layer_call_fn, gru_cell_50_layer_call_and_return_conditional_losses, gru_cell_51_layer_call_fn, gru_cell_51_layer_call_and_return_conditional_losses, gru_cell_52_layer_call_fn while saving (showing 5 of 10). These functions will not be directly callable after loading.\n"
     ]
    },
    {
     "name": "stdout",
     "output_type": "stream",
     "text": [
      "INFO:tensorflow:Assets written to: check\\leviathan.ckpt\\assets\n"
     ]
    },
    {
     "name": "stderr",
     "output_type": "stream",
     "text": [
      "INFO:tensorflow:Assets written to: check\\leviathan.ckpt\\assets\n"
     ]
    },
    {
     "name": "stdout",
     "output_type": "stream",
     "text": [
      "100/100 [==============================] - 808s 8s/step - loss: 0.3267 - accuracy: 0.8654 - lr: 0.0050\n",
      "Epoch 23/50\n",
      "100/100 [==============================] - ETA: 0s - loss: 0.3626 - accuracy: 0.8588"
     ]
    },
    {
     "name": "stderr",
     "output_type": "stream",
     "text": [
      "WARNING:absl:Found untraced functions such as gru_cell_50_layer_call_fn, gru_cell_50_layer_call_and_return_conditional_losses, gru_cell_51_layer_call_fn, gru_cell_51_layer_call_and_return_conditional_losses, gru_cell_52_layer_call_fn while saving (showing 5 of 10). These functions will not be directly callable after loading.\n"
     ]
    },
    {
     "name": "stdout",
     "output_type": "stream",
     "text": [
      "INFO:tensorflow:Assets written to: check\\leviathan.ckpt\\assets\n"
     ]
    },
    {
     "name": "stderr",
     "output_type": "stream",
     "text": [
      "INFO:tensorflow:Assets written to: check\\leviathan.ckpt\\assets\n"
     ]
    },
    {
     "name": "stdout",
     "output_type": "stream",
     "text": [
      "100/100 [==============================] - 824s 8s/step - loss: 0.3626 - accuracy: 0.8588 - lr: 0.0050\n",
      "Epoch 24/50\n",
      "100/100 [==============================] - ETA: 0s - loss: 0.2819 - accuracy: 0.8886"
     ]
    },
    {
     "name": "stderr",
     "output_type": "stream",
     "text": [
      "WARNING:absl:Found untraced functions such as gru_cell_50_layer_call_fn, gru_cell_50_layer_call_and_return_conditional_losses, gru_cell_51_layer_call_fn, gru_cell_51_layer_call_and_return_conditional_losses, gru_cell_52_layer_call_fn while saving (showing 5 of 10). These functions will not be directly callable after loading.\n"
     ]
    },
    {
     "name": "stdout",
     "output_type": "stream",
     "text": [
      "INFO:tensorflow:Assets written to: check\\leviathan.ckpt\\assets\n"
     ]
    },
    {
     "name": "stderr",
     "output_type": "stream",
     "text": [
      "INFO:tensorflow:Assets written to: check\\leviathan.ckpt\\assets\n"
     ]
    },
    {
     "name": "stdout",
     "output_type": "stream",
     "text": [
      "100/100 [==============================] - 808s 8s/step - loss: 0.2819 - accuracy: 0.8886 - lr: 0.0050\n",
      "Epoch 25/50\n",
      "100/100 [==============================] - ETA: 0s - loss: 0.3050 - accuracy: 0.8790"
     ]
    },
    {
     "name": "stderr",
     "output_type": "stream",
     "text": [
      "WARNING:absl:Found untraced functions such as gru_cell_50_layer_call_fn, gru_cell_50_layer_call_and_return_conditional_losses, gru_cell_51_layer_call_fn, gru_cell_51_layer_call_and_return_conditional_losses, gru_cell_52_layer_call_fn while saving (showing 5 of 10). These functions will not be directly callable after loading.\n"
     ]
    },
    {
     "name": "stdout",
     "output_type": "stream",
     "text": [
      "INFO:tensorflow:Assets written to: check\\leviathan.ckpt\\assets\n"
     ]
    },
    {
     "name": "stderr",
     "output_type": "stream",
     "text": [
      "INFO:tensorflow:Assets written to: check\\leviathan.ckpt\\assets\n"
     ]
    },
    {
     "name": "stdout",
     "output_type": "stream",
     "text": [
      "100/100 [==============================] - 810s 8s/step - loss: 0.3050 - accuracy: 0.8790 - lr: 0.0050\n",
      "Epoch 26/50\n",
      "100/100 [==============================] - ETA: 0s - loss: 0.2653 - accuracy: 0.8929"
     ]
    },
    {
     "name": "stderr",
     "output_type": "stream",
     "text": [
      "WARNING:absl:Found untraced functions such as gru_cell_50_layer_call_fn, gru_cell_50_layer_call_and_return_conditional_losses, gru_cell_51_layer_call_fn, gru_cell_51_layer_call_and_return_conditional_losses, gru_cell_52_layer_call_fn while saving (showing 5 of 10). These functions will not be directly callable after loading.\n"
     ]
    },
    {
     "name": "stdout",
     "output_type": "stream",
     "text": [
      "INFO:tensorflow:Assets written to: check\\leviathan.ckpt\\assets\n"
     ]
    },
    {
     "name": "stderr",
     "output_type": "stream",
     "text": [
      "INFO:tensorflow:Assets written to: check\\leviathan.ckpt\\assets\n"
     ]
    },
    {
     "name": "stdout",
     "output_type": "stream",
     "text": [
      "100/100 [==============================] - 834s 8s/step - loss: 0.2653 - accuracy: 0.8929 - lr: 0.0050\n",
      "Epoch 27/50\n",
      "100/100 [==============================] - ETA: 0s - loss: 0.2683 - accuracy: 0.8951"
     ]
    },
    {
     "name": "stderr",
     "output_type": "stream",
     "text": [
      "WARNING:absl:Found untraced functions such as gru_cell_50_layer_call_fn, gru_cell_50_layer_call_and_return_conditional_losses, gru_cell_51_layer_call_fn, gru_cell_51_layer_call_and_return_conditional_losses, gru_cell_52_layer_call_fn while saving (showing 5 of 10). These functions will not be directly callable after loading.\n"
     ]
    },
    {
     "name": "stdout",
     "output_type": "stream",
     "text": [
      "INFO:tensorflow:Assets written to: check\\leviathan.ckpt\\assets\n"
     ]
    },
    {
     "name": "stderr",
     "output_type": "stream",
     "text": [
      "INFO:tensorflow:Assets written to: check\\leviathan.ckpt\\assets\n"
     ]
    },
    {
     "name": "stdout",
     "output_type": "stream",
     "text": [
      "100/100 [==============================] - 763s 8s/step - loss: 0.2683 - accuracy: 0.8951 - lr: 0.0050\n",
      "Epoch 28/50\n",
      "100/100 [==============================] - ETA: 0s - loss: 0.2504 - accuracy: 0.8986"
     ]
    },
    {
     "name": "stderr",
     "output_type": "stream",
     "text": [
      "WARNING:absl:Found untraced functions such as gru_cell_50_layer_call_fn, gru_cell_50_layer_call_and_return_conditional_losses, gru_cell_51_layer_call_fn, gru_cell_51_layer_call_and_return_conditional_losses, gru_cell_52_layer_call_fn while saving (showing 5 of 10). These functions will not be directly callable after loading.\n"
     ]
    },
    {
     "name": "stdout",
     "output_type": "stream",
     "text": [
      "INFO:tensorflow:Assets written to: check\\leviathan.ckpt\\assets\n"
     ]
    },
    {
     "name": "stderr",
     "output_type": "stream",
     "text": [
      "INFO:tensorflow:Assets written to: check\\leviathan.ckpt\\assets\n"
     ]
    },
    {
     "name": "stdout",
     "output_type": "stream",
     "text": [
      "100/100 [==============================] - 780s 8s/step - loss: 0.2504 - accuracy: 0.8986 - lr: 0.0050\n",
      "Epoch 29/50\n",
      "100/100 [==============================] - ETA: 0s - loss: 0.2326 - accuracy: 0.9082"
     ]
    },
    {
     "name": "stderr",
     "output_type": "stream",
     "text": [
      "WARNING:absl:Found untraced functions such as gru_cell_50_layer_call_fn, gru_cell_50_layer_call_and_return_conditional_losses, gru_cell_51_layer_call_fn, gru_cell_51_layer_call_and_return_conditional_losses, gru_cell_52_layer_call_fn while saving (showing 5 of 10). These functions will not be directly callable after loading.\n"
     ]
    },
    {
     "name": "stdout",
     "output_type": "stream",
     "text": [
      "INFO:tensorflow:Assets written to: check\\leviathan.ckpt\\assets\n"
     ]
    },
    {
     "name": "stderr",
     "output_type": "stream",
     "text": [
      "INFO:tensorflow:Assets written to: check\\leviathan.ckpt\\assets\n"
     ]
    },
    {
     "name": "stdout",
     "output_type": "stream",
     "text": [
      "100/100 [==============================] - 813s 8s/step - loss: 0.2326 - accuracy: 0.9082 - lr: 0.0050\n",
      "Epoch 30/50\n",
      "100/100 [==============================] - ETA: 0s - loss: 0.2233 - accuracy: 0.9095"
     ]
    },
    {
     "name": "stderr",
     "output_type": "stream",
     "text": [
      "WARNING:absl:Found untraced functions such as gru_cell_50_layer_call_fn, gru_cell_50_layer_call_and_return_conditional_losses, gru_cell_51_layer_call_fn, gru_cell_51_layer_call_and_return_conditional_losses, gru_cell_52_layer_call_fn while saving (showing 5 of 10). These functions will not be directly callable after loading.\n"
     ]
    },
    {
     "name": "stdout",
     "output_type": "stream",
     "text": [
      "INFO:tensorflow:Assets written to: check\\leviathan.ckpt\\assets\n"
     ]
    },
    {
     "name": "stderr",
     "output_type": "stream",
     "text": [
      "INFO:tensorflow:Assets written to: check\\leviathan.ckpt\\assets\n"
     ]
    },
    {
     "name": "stdout",
     "output_type": "stream",
     "text": [
      "100/100 [==============================] - 815s 8s/step - loss: 0.2233 - accuracy: 0.9095 - lr: 0.0050\n",
      "Epoch 31/50\n",
      "100/100 [==============================] - ETA: 0s - loss: 0.2137 - accuracy: 0.9139"
     ]
    },
    {
     "name": "stderr",
     "output_type": "stream",
     "text": [
      "WARNING:absl:Found untraced functions such as gru_cell_50_layer_call_fn, gru_cell_50_layer_call_and_return_conditional_losses, gru_cell_51_layer_call_fn, gru_cell_51_layer_call_and_return_conditional_losses, gru_cell_52_layer_call_fn while saving (showing 5 of 10). These functions will not be directly callable after loading.\n"
     ]
    },
    {
     "name": "stdout",
     "output_type": "stream",
     "text": [
      "INFO:tensorflow:Assets written to: check\\leviathan.ckpt\\assets\n"
     ]
    },
    {
     "name": "stderr",
     "output_type": "stream",
     "text": [
      "INFO:tensorflow:Assets written to: check\\leviathan.ckpt\\assets\n"
     ]
    },
    {
     "name": "stdout",
     "output_type": "stream",
     "text": [
      "100/100 [==============================] - 945s 9s/step - loss: 0.2137 - accuracy: 0.9139 - lr: 0.0050\n",
      "Epoch 32/50\n",
      "100/100 [==============================] - ETA: 0s - loss: 0.2140 - accuracy: 0.9109 "
     ]
    },
    {
     "name": "stderr",
     "output_type": "stream",
     "text": [
      "WARNING:absl:Found untraced functions such as gru_cell_50_layer_call_fn, gru_cell_50_layer_call_and_return_conditional_losses, gru_cell_51_layer_call_fn, gru_cell_51_layer_call_and_return_conditional_losses, gru_cell_52_layer_call_fn while saving (showing 5 of 10). These functions will not be directly callable after loading.\n"
     ]
    },
    {
     "name": "stdout",
     "output_type": "stream",
     "text": [
      "INFO:tensorflow:Assets written to: check\\leviathan.ckpt\\assets\n"
     ]
    },
    {
     "name": "stderr",
     "output_type": "stream",
     "text": [
      "INFO:tensorflow:Assets written to: check\\leviathan.ckpt\\assets\n"
     ]
    },
    {
     "name": "stdout",
     "output_type": "stream",
     "text": [
      "100/100 [==============================] - 1078s 11s/step - loss: 0.2140 - accuracy: 0.9109 - lr: 0.0050\n",
      "Epoch 33/50\n",
      "100/100 [==============================] - ETA: 0s - loss: 0.2787 - accuracy: 0.8997"
     ]
    },
    {
     "name": "stderr",
     "output_type": "stream",
     "text": [
      "WARNING:absl:Found untraced functions such as gru_cell_50_layer_call_fn, gru_cell_50_layer_call_and_return_conditional_losses, gru_cell_51_layer_call_fn, gru_cell_51_layer_call_and_return_conditional_losses, gru_cell_52_layer_call_fn while saving (showing 5 of 10). These functions will not be directly callable after loading.\n"
     ]
    },
    {
     "name": "stdout",
     "output_type": "stream",
     "text": [
      "INFO:tensorflow:Assets written to: check\\leviathan.ckpt\\assets\n"
     ]
    },
    {
     "name": "stderr",
     "output_type": "stream",
     "text": [
      "INFO:tensorflow:Assets written to: check\\leviathan.ckpt\\assets\n"
     ]
    },
    {
     "name": "stdout",
     "output_type": "stream",
     "text": [
      "100/100 [==============================] - 773s 8s/step - loss: 0.2787 - accuracy: 0.8997 - lr: 0.0050\n",
      "Epoch 34/50\n",
      "100/100 [==============================] - ETA: 0s - loss: 0.2110 - accuracy: 0.9199"
     ]
    },
    {
     "name": "stderr",
     "output_type": "stream",
     "text": [
      "WARNING:absl:Found untraced functions such as gru_cell_50_layer_call_fn, gru_cell_50_layer_call_and_return_conditional_losses, gru_cell_51_layer_call_fn, gru_cell_51_layer_call_and_return_conditional_losses, gru_cell_52_layer_call_fn while saving (showing 5 of 10). These functions will not be directly callable after loading.\n"
     ]
    },
    {
     "name": "stdout",
     "output_type": "stream",
     "text": [
      "INFO:tensorflow:Assets written to: check\\leviathan.ckpt\\assets\n"
     ]
    },
    {
     "name": "stderr",
     "output_type": "stream",
     "text": [
      "INFO:tensorflow:Assets written to: check\\leviathan.ckpt\\assets\n"
     ]
    },
    {
     "name": "stdout",
     "output_type": "stream",
     "text": [
      "100/100 [==============================] - 773s 8s/step - loss: 0.2110 - accuracy: 0.9199 - lr: 0.0050\n",
      "Epoch 35/50\n",
      "100/100 [==============================] - ETA: 0s - loss: 0.1975 - accuracy: 0.9208"
     ]
    },
    {
     "name": "stderr",
     "output_type": "stream",
     "text": [
      "WARNING:absl:Found untraced functions such as gru_cell_50_layer_call_fn, gru_cell_50_layer_call_and_return_conditional_losses, gru_cell_51_layer_call_fn, gru_cell_51_layer_call_and_return_conditional_losses, gru_cell_52_layer_call_fn while saving (showing 5 of 10). These functions will not be directly callable after loading.\n"
     ]
    },
    {
     "name": "stdout",
     "output_type": "stream",
     "text": [
      "INFO:tensorflow:Assets written to: check\\leviathan.ckpt\\assets\n"
     ]
    },
    {
     "name": "stderr",
     "output_type": "stream",
     "text": [
      "INFO:tensorflow:Assets written to: check\\leviathan.ckpt\\assets\n"
     ]
    },
    {
     "name": "stdout",
     "output_type": "stream",
     "text": [
      "100/100 [==============================] - 865s 9s/step - loss: 0.1975 - accuracy: 0.9208 - lr: 0.0050\n",
      "Epoch 36/50\n",
      "100/100 [==============================] - ETA: 0s - loss: 0.1912 - accuracy: 0.9235"
     ]
    },
    {
     "name": "stderr",
     "output_type": "stream",
     "text": [
      "WARNING:absl:Found untraced functions such as gru_cell_50_layer_call_fn, gru_cell_50_layer_call_and_return_conditional_losses, gru_cell_51_layer_call_fn, gru_cell_51_layer_call_and_return_conditional_losses, gru_cell_52_layer_call_fn while saving (showing 5 of 10). These functions will not be directly callable after loading.\n"
     ]
    },
    {
     "name": "stdout",
     "output_type": "stream",
     "text": [
      "INFO:tensorflow:Assets written to: check\\leviathan.ckpt\\assets\n"
     ]
    },
    {
     "name": "stderr",
     "output_type": "stream",
     "text": [
      "INFO:tensorflow:Assets written to: check\\leviathan.ckpt\\assets\n"
     ]
    },
    {
     "name": "stdout",
     "output_type": "stream",
     "text": [
      "100/100 [==============================] - 842s 8s/step - loss: 0.1912 - accuracy: 0.9235 - lr: 0.0050\n",
      "Epoch 37/50\n",
      "100/100 [==============================] - ETA: 0s - loss: 0.1862 - accuracy: 0.9259"
     ]
    },
    {
     "name": "stderr",
     "output_type": "stream",
     "text": [
      "WARNING:absl:Found untraced functions such as gru_cell_50_layer_call_fn, gru_cell_50_layer_call_and_return_conditional_losses, gru_cell_51_layer_call_fn, gru_cell_51_layer_call_and_return_conditional_losses, gru_cell_52_layer_call_fn while saving (showing 5 of 10). These functions will not be directly callable after loading.\n"
     ]
    },
    {
     "name": "stdout",
     "output_type": "stream",
     "text": [
      "INFO:tensorflow:Assets written to: check\\leviathan.ckpt\\assets\n"
     ]
    },
    {
     "name": "stderr",
     "output_type": "stream",
     "text": [
      "INFO:tensorflow:Assets written to: check\\leviathan.ckpt\\assets\n"
     ]
    },
    {
     "name": "stdout",
     "output_type": "stream",
     "text": [
      "100/100 [==============================] - 858s 9s/step - loss: 0.1862 - accuracy: 0.9259 - lr: 0.0050\n",
      "Epoch 38/50\n",
      "100/100 [==============================] - ETA: 0s - loss: 0.1926 - accuracy: 0.9269"
     ]
    },
    {
     "name": "stderr",
     "output_type": "stream",
     "text": [
      "WARNING:absl:Found untraced functions such as gru_cell_50_layer_call_fn, gru_cell_50_layer_call_and_return_conditional_losses, gru_cell_51_layer_call_fn, gru_cell_51_layer_call_and_return_conditional_losses, gru_cell_52_layer_call_fn while saving (showing 5 of 10). These functions will not be directly callable after loading.\n"
     ]
    },
    {
     "name": "stdout",
     "output_type": "stream",
     "text": [
      "INFO:tensorflow:Assets written to: check\\leviathan.ckpt\\assets\n"
     ]
    },
    {
     "name": "stderr",
     "output_type": "stream",
     "text": [
      "INFO:tensorflow:Assets written to: check\\leviathan.ckpt\\assets\n"
     ]
    },
    {
     "name": "stdout",
     "output_type": "stream",
     "text": [
      "100/100 [==============================] - 970s 10s/step - loss: 0.1926 - accuracy: 0.9269 - lr: 0.0050\n",
      "Epoch 39/50\n",
      "100/100 [==============================] - ETA: 0s - loss: 0.1786 - accuracy: 0.9294"
     ]
    },
    {
     "name": "stderr",
     "output_type": "stream",
     "text": [
      "WARNING:absl:Found untraced functions such as gru_cell_50_layer_call_fn, gru_cell_50_layer_call_and_return_conditional_losses, gru_cell_51_layer_call_fn, gru_cell_51_layer_call_and_return_conditional_losses, gru_cell_52_layer_call_fn while saving (showing 5 of 10). These functions will not be directly callable after loading.\n"
     ]
    },
    {
     "name": "stdout",
     "output_type": "stream",
     "text": [
      "INFO:tensorflow:Assets written to: check\\leviathan.ckpt\\assets\n"
     ]
    },
    {
     "name": "stderr",
     "output_type": "stream",
     "text": [
      "INFO:tensorflow:Assets written to: check\\leviathan.ckpt\\assets\n"
     ]
    },
    {
     "name": "stdout",
     "output_type": "stream",
     "text": [
      "100/100 [==============================] - 971s 10s/step - loss: 0.1786 - accuracy: 0.9294 - lr: 0.0050\n",
      "Epoch 40/50\n",
      "100/100 [==============================] - ETA: 0s - loss: 0.1804 - accuracy: 0.9296"
     ]
    },
    {
     "name": "stderr",
     "output_type": "stream",
     "text": [
      "WARNING:absl:Found untraced functions such as gru_cell_50_layer_call_fn, gru_cell_50_layer_call_and_return_conditional_losses, gru_cell_51_layer_call_fn, gru_cell_51_layer_call_and_return_conditional_losses, gru_cell_52_layer_call_fn while saving (showing 5 of 10). These functions will not be directly callable after loading.\n"
     ]
    },
    {
     "name": "stdout",
     "output_type": "stream",
     "text": [
      "INFO:tensorflow:Assets written to: check\\leviathan.ckpt\\assets\n"
     ]
    },
    {
     "name": "stderr",
     "output_type": "stream",
     "text": [
      "INFO:tensorflow:Assets written to: check\\leviathan.ckpt\\assets\n"
     ]
    },
    {
     "name": "stdout",
     "output_type": "stream",
     "text": [
      "100/100 [==============================] - 1012s 10s/step - loss: 0.1804 - accuracy: 0.9296 - lr: 0.0050\n",
      "Epoch 41/50\n",
      "100/100 [==============================] - ETA: 0s - loss: 0.1600 - accuracy: 0.9349 "
     ]
    },
    {
     "name": "stderr",
     "output_type": "stream",
     "text": [
      "WARNING:absl:Found untraced functions such as gru_cell_50_layer_call_fn, gru_cell_50_layer_call_and_return_conditional_losses, gru_cell_51_layer_call_fn, gru_cell_51_layer_call_and_return_conditional_losses, gru_cell_52_layer_call_fn while saving (showing 5 of 10). These functions will not be directly callable after loading.\n"
     ]
    },
    {
     "name": "stdout",
     "output_type": "stream",
     "text": [
      "INFO:tensorflow:Assets written to: check\\leviathan.ckpt\\assets\n"
     ]
    },
    {
     "name": "stderr",
     "output_type": "stream",
     "text": [
      "INFO:tensorflow:Assets written to: check\\leviathan.ckpt\\assets\n"
     ]
    },
    {
     "name": "stdout",
     "output_type": "stream",
     "text": [
      "100/100 [==============================] - 1091s 11s/step - loss: 0.1600 - accuracy: 0.9349 - lr: 0.0050\n",
      "Epoch 42/50\n",
      "100/100 [==============================] - ETA: 0s - loss: 0.1669 - accuracy: 0.9343"
     ]
    },
    {
     "name": "stderr",
     "output_type": "stream",
     "text": [
      "WARNING:absl:Found untraced functions such as gru_cell_50_layer_call_fn, gru_cell_50_layer_call_and_return_conditional_losses, gru_cell_51_layer_call_fn, gru_cell_51_layer_call_and_return_conditional_losses, gru_cell_52_layer_call_fn while saving (showing 5 of 10). These functions will not be directly callable after loading.\n"
     ]
    },
    {
     "name": "stdout",
     "output_type": "stream",
     "text": [
      "INFO:tensorflow:Assets written to: check\\leviathan.ckpt\\assets\n"
     ]
    },
    {
     "name": "stderr",
     "output_type": "stream",
     "text": [
      "INFO:tensorflow:Assets written to: check\\leviathan.ckpt\\assets\n"
     ]
    },
    {
     "name": "stdout",
     "output_type": "stream",
     "text": [
      "100/100 [==============================] - 915s 9s/step - loss: 0.1669 - accuracy: 0.9343 - lr: 0.0050\n",
      "Epoch 43/50\n",
      "100/100 [==============================] - ETA: 0s - loss: 0.1614 - accuracy: 0.9347"
     ]
    },
    {
     "name": "stderr",
     "output_type": "stream",
     "text": [
      "WARNING:absl:Found untraced functions such as gru_cell_50_layer_call_fn, gru_cell_50_layer_call_and_return_conditional_losses, gru_cell_51_layer_call_fn, gru_cell_51_layer_call_and_return_conditional_losses, gru_cell_52_layer_call_fn while saving (showing 5 of 10). These functions will not be directly callable after loading.\n"
     ]
    },
    {
     "name": "stdout",
     "output_type": "stream",
     "text": [
      "INFO:tensorflow:Assets written to: check\\leviathan.ckpt\\assets\n"
     ]
    },
    {
     "name": "stderr",
     "output_type": "stream",
     "text": [
      "INFO:tensorflow:Assets written to: check\\leviathan.ckpt\\assets\n"
     ]
    },
    {
     "name": "stdout",
     "output_type": "stream",
     "text": [
      "100/100 [==============================] - 915s 9s/step - loss: 0.1614 - accuracy: 0.9347 - lr: 0.0050\n",
      "Epoch 44/50\n",
      "100/100 [==============================] - ETA: 0s - loss: 0.1544 - accuracy: 0.9373"
     ]
    },
    {
     "name": "stderr",
     "output_type": "stream",
     "text": [
      "WARNING:absl:Found untraced functions such as gru_cell_50_layer_call_fn, gru_cell_50_layer_call_and_return_conditional_losses, gru_cell_51_layer_call_fn, gru_cell_51_layer_call_and_return_conditional_losses, gru_cell_52_layer_call_fn while saving (showing 5 of 10). These functions will not be directly callable after loading.\n"
     ]
    },
    {
     "name": "stdout",
     "output_type": "stream",
     "text": [
      "INFO:tensorflow:Assets written to: check\\leviathan.ckpt\\assets\n"
     ]
    },
    {
     "name": "stderr",
     "output_type": "stream",
     "text": [
      "INFO:tensorflow:Assets written to: check\\leviathan.ckpt\\assets\n"
     ]
    },
    {
     "name": "stdout",
     "output_type": "stream",
     "text": [
      "100/100 [==============================] - 938s 9s/step - loss: 0.1544 - accuracy: 0.9373 - lr: 0.0050\n",
      "Epoch 45/50\n",
      "100/100 [==============================] - ETA: 0s - loss: 0.1577 - accuracy: 0.9370"
     ]
    },
    {
     "name": "stderr",
     "output_type": "stream",
     "text": [
      "WARNING:absl:Found untraced functions such as gru_cell_50_layer_call_fn, gru_cell_50_layer_call_and_return_conditional_losses, gru_cell_51_layer_call_fn, gru_cell_51_layer_call_and_return_conditional_losses, gru_cell_52_layer_call_fn while saving (showing 5 of 10). These functions will not be directly callable after loading.\n"
     ]
    },
    {
     "name": "stdout",
     "output_type": "stream",
     "text": [
      "INFO:tensorflow:Assets written to: check\\leviathan.ckpt\\assets\n"
     ]
    },
    {
     "name": "stderr",
     "output_type": "stream",
     "text": [
      "INFO:tensorflow:Assets written to: check\\leviathan.ckpt\\assets\n"
     ]
    },
    {
     "name": "stdout",
     "output_type": "stream",
     "text": [
      "100/100 [==============================] - 902s 9s/step - loss: 0.1577 - accuracy: 0.9370 - lr: 0.0050\n",
      "Epoch 46/50\n",
      "100/100 [==============================] - ETA: 0s - loss: 0.1428 - accuracy: 0.9404"
     ]
    },
    {
     "name": "stderr",
     "output_type": "stream",
     "text": [
      "WARNING:absl:Found untraced functions such as gru_cell_50_layer_call_fn, gru_cell_50_layer_call_and_return_conditional_losses, gru_cell_51_layer_call_fn, gru_cell_51_layer_call_and_return_conditional_losses, gru_cell_52_layer_call_fn while saving (showing 5 of 10). These functions will not be directly callable after loading.\n"
     ]
    },
    {
     "name": "stdout",
     "output_type": "stream",
     "text": [
      "INFO:tensorflow:Assets written to: check\\leviathan.ckpt\\assets\n"
     ]
    },
    {
     "name": "stderr",
     "output_type": "stream",
     "text": [
      "INFO:tensorflow:Assets written to: check\\leviathan.ckpt\\assets\n"
     ]
    },
    {
     "name": "stdout",
     "output_type": "stream",
     "text": [
      "100/100 [==============================] - 900s 9s/step - loss: 0.1428 - accuracy: 0.9404 - lr: 0.0050\n",
      "Epoch 47/50\n",
      "100/100 [==============================] - ETA: 0s - loss: 0.1568 - accuracy: 0.9396"
     ]
    },
    {
     "name": "stderr",
     "output_type": "stream",
     "text": [
      "WARNING:absl:Found untraced functions such as gru_cell_50_layer_call_fn, gru_cell_50_layer_call_and_return_conditional_losses, gru_cell_51_layer_call_fn, gru_cell_51_layer_call_and_return_conditional_losses, gru_cell_52_layer_call_fn while saving (showing 5 of 10). These functions will not be directly callable after loading.\n"
     ]
    },
    {
     "name": "stdout",
     "output_type": "stream",
     "text": [
      "INFO:tensorflow:Assets written to: check\\leviathan.ckpt\\assets\n"
     ]
    },
    {
     "name": "stderr",
     "output_type": "stream",
     "text": [
      "INFO:tensorflow:Assets written to: check\\leviathan.ckpt\\assets\n"
     ]
    },
    {
     "name": "stdout",
     "output_type": "stream",
     "text": [
      "100/100 [==============================] - 958s 10s/step - loss: 0.1568 - accuracy: 0.9396 - lr: 0.0050\n",
      "Epoch 48/50\n",
      "100/100 [==============================] - ETA: 0s - loss: 0.1637 - accuracy: 0.9378"
     ]
    },
    {
     "name": "stderr",
     "output_type": "stream",
     "text": [
      "WARNING:absl:Found untraced functions such as gru_cell_50_layer_call_fn, gru_cell_50_layer_call_and_return_conditional_losses, gru_cell_51_layer_call_fn, gru_cell_51_layer_call_and_return_conditional_losses, gru_cell_52_layer_call_fn while saving (showing 5 of 10). These functions will not be directly callable after loading.\n"
     ]
    },
    {
     "name": "stdout",
     "output_type": "stream",
     "text": [
      "INFO:tensorflow:Assets written to: check\\leviathan.ckpt\\assets\n"
     ]
    },
    {
     "name": "stderr",
     "output_type": "stream",
     "text": [
      "INFO:tensorflow:Assets written to: check\\leviathan.ckpt\\assets\n"
     ]
    },
    {
     "name": "stdout",
     "output_type": "stream",
     "text": [
      "100/100 [==============================] - 836s 8s/step - loss: 0.1637 - accuracy: 0.9378 - lr: 0.0050\n",
      "Epoch 49/50\n",
      "100/100 [==============================] - ETA: 0s - loss: 0.1519 - accuracy: 0.9399"
     ]
    },
    {
     "name": "stderr",
     "output_type": "stream",
     "text": [
      "WARNING:absl:Found untraced functions such as gru_cell_50_layer_call_fn, gru_cell_50_layer_call_and_return_conditional_losses, gru_cell_51_layer_call_fn, gru_cell_51_layer_call_and_return_conditional_losses, gru_cell_52_layer_call_fn while saving (showing 5 of 10). These functions will not be directly callable after loading.\n"
     ]
    },
    {
     "name": "stdout",
     "output_type": "stream",
     "text": [
      "INFO:tensorflow:Assets written to: check\\leviathan.ckpt\\assets\n"
     ]
    },
    {
     "name": "stderr",
     "output_type": "stream",
     "text": [
      "INFO:tensorflow:Assets written to: check\\leviathan.ckpt\\assets\n"
     ]
    },
    {
     "name": "stdout",
     "output_type": "stream",
     "text": [
      "100/100 [==============================] - 854s 9s/step - loss: 0.1519 - accuracy: 0.9399 - lr: 0.0050\n",
      "Epoch 50/50\n",
      "100/100 [==============================] - ETA: 0s - loss: 0.1523 - accuracy: 0.9400"
     ]
    },
    {
     "name": "stderr",
     "output_type": "stream",
     "text": [
      "WARNING:absl:Found untraced functions such as gru_cell_50_layer_call_fn, gru_cell_50_layer_call_and_return_conditional_losses, gru_cell_51_layer_call_fn, gru_cell_51_layer_call_and_return_conditional_losses, gru_cell_52_layer_call_fn while saving (showing 5 of 10). These functions will not be directly callable after loading.\n"
     ]
    },
    {
     "name": "stdout",
     "output_type": "stream",
     "text": [
      "INFO:tensorflow:Assets written to: check\\leviathan.ckpt\\assets\n"
     ]
    },
    {
     "name": "stderr",
     "output_type": "stream",
     "text": [
      "INFO:tensorflow:Assets written to: check\\leviathan.ckpt\\assets\n"
     ]
    },
    {
     "name": "stdout",
     "output_type": "stream",
     "text": [
      "\b\b\b\b\b\b\b\b\b\b\b\b\b\b\b\b\b\b\b\b\b\b\b\b\b\b\b\b\b\b\b\b\b\b\b\b\b\b\b\b\b\b\b\b\b\b\b\b\b\b\b\b\b\b\b\b\b\b\b\b\b\b\b\b\b\b\b\b\b\b\b\b\b\b\b\b\b\b\b\b\b\b\b\b\r",
      "100/100 [==============================] - 983s 10s/step - loss: 0.1523 - accuracy: 0.9400 - lr: 0.0050\n"
     ]
    },
    {
     "data": {
      "text/plain": [
       "<keras.callbacks.History at 0x29385b42a60>"
      ]
     },
     "execution_count": 110,
     "metadata": {},
     "output_type": "execute_result"
    }
   ],
   "source": [
    "leviathan = modeller(lookback)\n",
    "check_path = \"check/leviathan.ckpt\"\n",
    "check_dir = os.path.dirname(check_path)\n",
    "epochs = 50\n",
    "batch_size = 300\n",
    "leviathan.fit(tx, ty, epochs=epochs, batch_size=batch_size,  callbacks=[keras.callbacks.ReduceLROnPlateau(\n",
    "            monitor=\"accuracy\", factor=0.5, patience=5, min_lr=0.0001), keras.callbacks.ModelCheckpoint(filepath=check_path)])"
   ]
  },
  {
   "cell_type": "code",
   "execution_count": 111,
   "id": "30ac8527",
   "metadata": {},
   "outputs": [],
   "source": [
    "#acc = 0\n",
    "#for i in prediction:\n",
    "#    acc += i\n",
    "    \n",
    "#print(acc/len(prediction))"
   ]
  },
  {
   "cell_type": "code",
   "execution_count": 116,
   "id": "fec6350f",
   "metadata": {},
   "outputs": [
    {
     "name": "stdout",
     "output_type": "stream",
     "text": [
      "preparing x and y...\n",
      "122/122 [==============================] - 12s 101ms/step\n"
     ]
    },
    {
     "data": {
      "text/plain": [
       "[<matplotlib.lines.Line2D at 0x2937df099a0>,\n",
       " <matplotlib.lines.Line2D at 0x2937df09c40>,\n",
       " <matplotlib.lines.Line2D at 0x2937df091c0>]"
      ]
     },
     "execution_count": 116,
     "metadata": {},
     "output_type": "execute_result"
    },
    {
     "data": {
      "image/png": "[encoded data removed]",
      "text/plain": [
       "<Figure size 432x288 with 2 Axes>"
      ]
     },
     "metadata": {
      "needs_background": "light"
     },
     "output_type": "display_data"
    }
   ],
   "source": [
    "new_list = [\"bajaj finserv.csv\", \"rpow.csv\"]\n",
    "list_of_options = [\"Spread Close-Open\"]\n",
    "checkx, checky = data_prep(new_list, list_of_options, lookback, lookforward)\n",
    "final = leviathan.predict(checkx)\n",
    "fig, ax = plt.subplots(2)\n",
    "ax[0].plot(final)\n",
    "ax[1].plot(checky)\n",
    "#prediction = predictor(model1, checkx, checky, lookback)\n",
    "#vals = np.zeros(prediction.shape[0])\n",
    "#acc = 0\n",
    "\n",
    "#for k in range(prediction.shape[0]):\n",
    "#    if (np.where(prediction[k]==max(prediction[k]))[0][0]==np.where(checky[k]==max(checky[k]))[0][0]):\n",
    "#        vals[k] = 1\n",
    "#    else:\n",
    "#        vals[k] = 0\n",
    "    \n",
    "#for i in vals:\n",
    "#    acc+=i\n",
    "\n",
    "#plt.bar(np.arange(prediction.shape[0]), vals)\n",
    "#print(\"Accuracy on random dataset: \", acc/len(vals))"
   ]
  },
  {
   "cell_type": "code",
   "execution_count": 120,
   "id": "69db35c6",
   "metadata": {},
   "outputs": [],
   "source": [
    "vals = np.zeros(final.shape[0])\n",
    "acc=0\n",
    "confi = np.zeros(final.shape[0])\n",
    "for k in range(final.shape[0]):\n",
    "    confi[k] = max(final[k])\n",
    "    if (np.where(final[k]==max(final[k]))[0][0]==np.where(checky[k]==max(checky[k]))[0][0]):\n",
    "        vals[k] = 1\n",
    "    else:\n",
    "        vals[k] = 0\n",
    "    \n",
    "for i in vals:\n",
    "    acc+=i\n"
   ]
  },
  {
   "cell_type": "code",
   "execution_count": 126,
   "id": "847b5f17",
   "metadata": {},
   "outputs": [
    {
     "name": "stdout",
     "output_type": "stream",
     "text": [
      "Accuracy on random dataset:  0.9697280656747049\n"
     ]
    },
    {
     "data": {
      "image/png": "[encoded data removed]",
      "text/plain": [
       "<Figure size 432x288 with 2 Axes>"
      ]
     },
     "metadata": {
      "needs_background": "light"
     },
     "output_type": "display_data"
    }
   ],
   "source": [
    "fig, ax = plt.subplots(2)\n",
    "ax[0].bar(np.arange(final.shape[0]), vals)\n",
    "ax[1].plot(confi)\n",
    "#ax[1].y_ticks(np.arange(0, 1, 0.05))\n",
    "ax[1].grid()\n",
    "print(\"Accuracy on random dataset: \", acc/len(vals))"
   ]
  },
  {
   "cell_type": "code",
   "execution_count": 119,
   "id": "929039eb",
   "metadata": {},
   "outputs": [
    {
     "name": "stdout",
     "output_type": "stream",
     "text": [
      "Time taken to run notebook:  940.7702295263608  minutes\n"
     ]
    }
   ],
   "source": [
    "end = time()\n",
    "print(\"Time taken to run notebook: \", (end-start)/60, \" minutes\")"
   ]
  },
  {
   "cell_type": "markdown",
   "id": "e4eaaa15",
   "metadata": {},
   "source": [
    "Case 1:5 GRUs and 3 Dense-activation is leaky_relu\n",
    "Case 1 accuracy = 90.909%\n",
    "Case 2: 5 GRUs and 2 Dense-activation is leaky_relu\n",
    "Case 2 accuracy = 87.272%\n",
    "Case 3: 5 GRUs and 3 Dense-activation is tanh\n",
    "Case 3 accuracy = 96.363%\n",
    "Case 4: Case 3 with lookforward of 10 days\n",
    "Case 4 accuracy = 68.881%"
   ]
  }
 ],
 "metadata": {
  "kernelspec": {
   "display_name": "Python 3 (ipykernel)",
   "language": "python",
   "name": "python3"
  },
  "language_info": {
   "codemirror_mode": {
    "name": "ipython",
    "version": 3
   },
   "file_extension": ".py",
   "mimetype": "text/x-python",
   "name": "python",
   "nbconvert_exporter": "python",
   "pygments_lexer": "ipython3",
   "version": "3.9.12"
  }
 },
 "nbformat": 4,
 "nbformat_minor": 5
}
